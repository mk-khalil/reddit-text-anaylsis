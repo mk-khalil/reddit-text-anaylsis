{
  "nbformat": 4,
  "nbformat_minor": 0,
  "metadata": {
    "colab": {
      "provenance": []
    },
    "kernelspec": {
      "name": "python3",
      "display_name": "Python 3"
    },
    "language_info": {
      "name": "python"
    }
  },
  "cells": [
    {
      "cell_type": "markdown",
      "source": [
        "**In this notebook we analyze a uniform random sample of reddit comments dataset to find problems, outliers or patterns across the data**"
      ],
      "metadata": {
        "id": "zJx4-Dn2xOC6"
      }
    },
    {
      "cell_type": "markdown",
      "source": [
        "# Loading the dataset from Gdrive"
      ],
      "metadata": {
        "id": "2VkO8F9yxoSG"
      }
    },
    {
      "cell_type": "code",
      "source": [
        "# A code snippet to download the dataset file from a Gdrive\n",
        "from pydrive.auth import GoogleAuth\n",
        "from pydrive.drive import GoogleDrive\n",
        "from google.colab import auth\n",
        "from oauth2client.client import GoogleCredentials\n",
        "\n",
        "# Authenticate and create the PyDrive client.\n",
        "# This only needs to be done once per notebook.\n",
        "auth.authenticate_user()\n",
        "gauth = GoogleAuth()\n",
        "gauth.credentials = GoogleCredentials.get_application_default()\n",
        "drive = GoogleDrive(gauth)\n",
        "\n",
        "# Download a file based on its file ID.\n",
        "\n",
        "file_id = '1-D_uHkn37M5ptWVQl8a5-q8NBv9jaLWr'\n",
        "downloaded = drive.CreateFile({'id': file_id})\n",
        "downloaded.GetContentFile('dataset.bz2')"
      ],
      "metadata": {
        "id": "PvgONdh44E3P"
      },
      "execution_count": null,
      "outputs": []
    },
    {
      "cell_type": "markdown",
      "source": [
        "# Sampling 10k records from the dataset using uniform random sampling"
      ],
      "metadata": {
        "id": "pW3iz4Foxtl8"
      }
    },
    {
      "cell_type": "code",
      "source": [
        "import sys\n",
        "import bz2\n",
        "import random\n",
        "import time\n",
        "import pandas as pd\n",
        "\n",
        "def read_comment(afile):\n",
        "    while afile.read(1) != b\"\\n\":\n",
        "        pass\n",
        "    output = b\"\"\n",
        "    while 1:\n",
        "        byte = afile.read(1)\n",
        "        if byte == b\"\\n\":\n",
        "            return output + b\"\\n\"\n",
        "        output += byte\n",
        "\n",
        "\n",
        "num_samples = 10000\n",
        "random.seed(time.time())\n",
        "sampled_bytes = [random.randint(0, 500000000) for _ in range(num_samples)]\n",
        "sampled_bytes.sort()\n",
        "output = b\"\"\n",
        "with bz2.BZ2File(\"dataset.bz2\", mode=\"rb\") as input_file:\n",
        "    for i in range(num_samples):\n",
        "        input_file.seek(sampled_bytes[i])\n",
        "        output += read_comment(input_file)\n",
        "print(num_samples, 'comments are sampled.\\n')\n",
        "\n",
        "with open(\"sample.json\", \"wb\") as output_file:\n",
        "    output_file.write(output)\n",
        "df = pd.read_json(\"sample.json\", lines=True)\n",
        "df.to_csv('sampled_data.csv', index=False)"
      ],
      "metadata": {
        "colab": {
          "base_uri": "https://localhost:8080/"
        },
        "id": "cWYQMBZY6MTp",
        "outputId": "2f62db7a-6370-48c7-e337-c36be4384511"
      },
      "execution_count": null,
      "outputs": [
        {
          "output_type": "stream",
          "name": "stdout",
          "text": [
            "10000 comments are sampled.\n",
            "\n"
          ]
        }
      ]
    },
    {
      "cell_type": "markdown",
      "source": [
        "# Analyzing the dataset using panadas dataframe"
      ],
      "metadata": {
        "id": "uzhizarlyoMZ"
      }
    },
    {
      "cell_type": "code",
      "source": [
        "red_df = pd.read_csv('sampled_data.csv')\n",
        "red_df.head()"
      ],
      "metadata": {
        "colab": {
          "base_uri": "https://localhost:8080/",
          "height": 543
        },
        "id": "btjTA7S6x7iB",
        "outputId": "2b50d3a2-5b0a-42a0-d4d4-4c0a09bb3d19"
      },
      "execution_count": null,
      "outputs": [
        {
          "output_type": "execute_result",
          "data": {
            "text/plain": [
              "  retrieved_on  ups author_flair_css_class  \\\n",
              "0   1425124281  1.0                    NaN   \n",
              "1   1425124281  3.0                    NaN   \n",
              "2   1425124281  3.0                    NaN   \n",
              "3   1425124279  2.0                 i-gpcm   \n",
              "4   1425124279  2.0                    NaN   \n",
              "\n",
              "                      author_flair_text  gilded controversiality subreddit_id  \\\n",
              "0                                   NaN       0                0     t5_2qnfs   \n",
              "1                                   NaN       0                0     t5_2qh61   \n",
              "2                                   NaN       0                0     t5_2qh61   \n",
              "3  8350-GTX760-16GB-256SSD-HAFXB-K70RGB       0                0     t5_2sgp1   \n",
              "4                                   NaN       0                0     t5_2qstm   \n",
              "\n",
              "  edited        subreddit   parent_id  ...  downs  \\\n",
              "0      0        Bushcraft  t1_cn9co47  ...    0.0   \n",
              "1      0              WTF  t1_cna8b1r  ...    0.0   \n",
              "2      0              WTF  t1_cna8b1r  ...    0.0   \n",
              "3      0     pcmasterrace  t1_cnarrfo  ...    0.0   \n",
              "4      0  personalfinance  t1_cnaqt37  ...    0.0   \n",
              "\n",
              "                                                body distinguished       id  \\\n",
              "0               Thanks, I'll look into one of those!           NaN  cnas935   \n",
              "1  I'm not religious at all, and I'm not into gun...           NaN  cnas93k   \n",
              "2  I'm not religious at all, and I'm not into gun...           NaN  cnas93k   \n",
              "3  I hear you.  Due to the lingering effects of a...           NaN  cnas98r   \n",
              "4  If you are completely inexperienced, then choo...           NaN  cnas98s   \n",
              "\n",
              "  archived score              author score_hidden    link_id        name  \n",
              "0    False   1.0    naivesuperiority        False  t3_2ohma5  t1_cnas935  \n",
              "1    False   3.0  WorldsGreatestPoop        False  t3_2qwr9k  t1_cnas93k  \n",
              "2    False   3.0  WorldsGreatestPoop        False  t3_2qwr9k  t1_cnas93k  \n",
              "3    False   2.0      Head_Cockswain        False  t3_2qy3j3  t1_cnas98r  \n",
              "4    False   2.0        tccommentate        False  t3_2qyap3  t1_cnas98s  \n",
              "\n",
              "[5 rows x 21 columns]"
            ],
            "text/html": [
              "\n",
              "  <div id=\"df-6d42d8d1-3cbf-4133-8f69-52d55abcac1c\">\n",
              "    <div class=\"colab-df-container\">\n",
              "      <div>\n",
              "<style scoped>\n",
              "    .dataframe tbody tr th:only-of-type {\n",
              "        vertical-align: middle;\n",
              "    }\n",
              "\n",
              "    .dataframe tbody tr th {\n",
              "        vertical-align: top;\n",
              "    }\n",
              "\n",
              "    .dataframe thead th {\n",
              "        text-align: right;\n",
              "    }\n",
              "</style>\n",
              "<table border=\"1\" class=\"dataframe\">\n",
              "  <thead>\n",
              "    <tr style=\"text-align: right;\">\n",
              "      <th></th>\n",
              "      <th>retrieved_on</th>\n",
              "      <th>ups</th>\n",
              "      <th>author_flair_css_class</th>\n",
              "      <th>author_flair_text</th>\n",
              "      <th>gilded</th>\n",
              "      <th>controversiality</th>\n",
              "      <th>subreddit_id</th>\n",
              "      <th>edited</th>\n",
              "      <th>subreddit</th>\n",
              "      <th>parent_id</th>\n",
              "      <th>...</th>\n",
              "      <th>downs</th>\n",
              "      <th>body</th>\n",
              "      <th>distinguished</th>\n",
              "      <th>id</th>\n",
              "      <th>archived</th>\n",
              "      <th>score</th>\n",
              "      <th>author</th>\n",
              "      <th>score_hidden</th>\n",
              "      <th>link_id</th>\n",
              "      <th>name</th>\n",
              "    </tr>\n",
              "  </thead>\n",
              "  <tbody>\n",
              "    <tr>\n",
              "      <th>0</th>\n",
              "      <td>1425124281</td>\n",
              "      <td>1.0</td>\n",
              "      <td>NaN</td>\n",
              "      <td>NaN</td>\n",
              "      <td>0</td>\n",
              "      <td>0</td>\n",
              "      <td>t5_2qnfs</td>\n",
              "      <td>0</td>\n",
              "      <td>Bushcraft</td>\n",
              "      <td>t1_cn9co47</td>\n",
              "      <td>...</td>\n",
              "      <td>0.0</td>\n",
              "      <td>Thanks, I'll look into one of those!</td>\n",
              "      <td>NaN</td>\n",
              "      <td>cnas935</td>\n",
              "      <td>False</td>\n",
              "      <td>1.0</td>\n",
              "      <td>naivesuperiority</td>\n",
              "      <td>False</td>\n",
              "      <td>t3_2ohma5</td>\n",
              "      <td>t1_cnas935</td>\n",
              "    </tr>\n",
              "    <tr>\n",
              "      <th>1</th>\n",
              "      <td>1425124281</td>\n",
              "      <td>3.0</td>\n",
              "      <td>NaN</td>\n",
              "      <td>NaN</td>\n",
              "      <td>0</td>\n",
              "      <td>0</td>\n",
              "      <td>t5_2qh61</td>\n",
              "      <td>0</td>\n",
              "      <td>WTF</td>\n",
              "      <td>t1_cna8b1r</td>\n",
              "      <td>...</td>\n",
              "      <td>0.0</td>\n",
              "      <td>I'm not religious at all, and I'm not into gun...</td>\n",
              "      <td>NaN</td>\n",
              "      <td>cnas93k</td>\n",
              "      <td>False</td>\n",
              "      <td>3.0</td>\n",
              "      <td>WorldsGreatestPoop</td>\n",
              "      <td>False</td>\n",
              "      <td>t3_2qwr9k</td>\n",
              "      <td>t1_cnas93k</td>\n",
              "    </tr>\n",
              "    <tr>\n",
              "      <th>2</th>\n",
              "      <td>1425124281</td>\n",
              "      <td>3.0</td>\n",
              "      <td>NaN</td>\n",
              "      <td>NaN</td>\n",
              "      <td>0</td>\n",
              "      <td>0</td>\n",
              "      <td>t5_2qh61</td>\n",
              "      <td>0</td>\n",
              "      <td>WTF</td>\n",
              "      <td>t1_cna8b1r</td>\n",
              "      <td>...</td>\n",
              "      <td>0.0</td>\n",
              "      <td>I'm not religious at all, and I'm not into gun...</td>\n",
              "      <td>NaN</td>\n",
              "      <td>cnas93k</td>\n",
              "      <td>False</td>\n",
              "      <td>3.0</td>\n",
              "      <td>WorldsGreatestPoop</td>\n",
              "      <td>False</td>\n",
              "      <td>t3_2qwr9k</td>\n",
              "      <td>t1_cnas93k</td>\n",
              "    </tr>\n",
              "    <tr>\n",
              "      <th>3</th>\n",
              "      <td>1425124279</td>\n",
              "      <td>2.0</td>\n",
              "      <td>i-gpcm</td>\n",
              "      <td>8350-GTX760-16GB-256SSD-HAFXB-K70RGB</td>\n",
              "      <td>0</td>\n",
              "      <td>0</td>\n",
              "      <td>t5_2sgp1</td>\n",
              "      <td>0</td>\n",
              "      <td>pcmasterrace</td>\n",
              "      <td>t1_cnarrfo</td>\n",
              "      <td>...</td>\n",
              "      <td>0.0</td>\n",
              "      <td>I hear you.  Due to the lingering effects of a...</td>\n",
              "      <td>NaN</td>\n",
              "      <td>cnas98r</td>\n",
              "      <td>False</td>\n",
              "      <td>2.0</td>\n",
              "      <td>Head_Cockswain</td>\n",
              "      <td>False</td>\n",
              "      <td>t3_2qy3j3</td>\n",
              "      <td>t1_cnas98r</td>\n",
              "    </tr>\n",
              "    <tr>\n",
              "      <th>4</th>\n",
              "      <td>1425124279</td>\n",
              "      <td>2.0</td>\n",
              "      <td>NaN</td>\n",
              "      <td>NaN</td>\n",
              "      <td>0</td>\n",
              "      <td>0</td>\n",
              "      <td>t5_2qstm</td>\n",
              "      <td>0</td>\n",
              "      <td>personalfinance</td>\n",
              "      <td>t1_cnaqt37</td>\n",
              "      <td>...</td>\n",
              "      <td>0.0</td>\n",
              "      <td>If you are completely inexperienced, then choo...</td>\n",
              "      <td>NaN</td>\n",
              "      <td>cnas98s</td>\n",
              "      <td>False</td>\n",
              "      <td>2.0</td>\n",
              "      <td>tccommentate</td>\n",
              "      <td>False</td>\n",
              "      <td>t3_2qyap3</td>\n",
              "      <td>t1_cnas98s</td>\n",
              "    </tr>\n",
              "  </tbody>\n",
              "</table>\n",
              "<p>5 rows × 21 columns</p>\n",
              "</div>\n",
              "      <button class=\"colab-df-convert\" onclick=\"convertToInteractive('df-6d42d8d1-3cbf-4133-8f69-52d55abcac1c')\"\n",
              "              title=\"Convert this dataframe to an interactive table.\"\n",
              "              style=\"display:none;\">\n",
              "        \n",
              "  <svg xmlns=\"http://www.w3.org/2000/svg\" height=\"24px\"viewBox=\"0 0 24 24\"\n",
              "       width=\"24px\">\n",
              "    <path d=\"M0 0h24v24H0V0z\" fill=\"none\"/>\n",
              "    <path d=\"M18.56 5.44l.94 2.06.94-2.06 2.06-.94-2.06-.94-.94-2.06-.94 2.06-2.06.94zm-11 1L8.5 8.5l.94-2.06 2.06-.94-2.06-.94L8.5 2.5l-.94 2.06-2.06.94zm10 10l.94 2.06.94-2.06 2.06-.94-2.06-.94-.94-2.06-.94 2.06-2.06.94z\"/><path d=\"M17.41 7.96l-1.37-1.37c-.4-.4-.92-.59-1.43-.59-.52 0-1.04.2-1.43.59L10.3 9.45l-7.72 7.72c-.78.78-.78 2.05 0 2.83L4 21.41c.39.39.9.59 1.41.59.51 0 1.02-.2 1.41-.59l7.78-7.78 2.81-2.81c.8-.78.8-2.07 0-2.86zM5.41 20L4 18.59l7.72-7.72 1.47 1.35L5.41 20z\"/>\n",
              "  </svg>\n",
              "      </button>\n",
              "      \n",
              "  <style>\n",
              "    .colab-df-container {\n",
              "      display:flex;\n",
              "      flex-wrap:wrap;\n",
              "      gap: 12px;\n",
              "    }\n",
              "\n",
              "    .colab-df-convert {\n",
              "      background-color: #E8F0FE;\n",
              "      border: none;\n",
              "      border-radius: 50%;\n",
              "      cursor: pointer;\n",
              "      display: none;\n",
              "      fill: #1967D2;\n",
              "      height: 32px;\n",
              "      padding: 0 0 0 0;\n",
              "      width: 32px;\n",
              "    }\n",
              "\n",
              "    .colab-df-convert:hover {\n",
              "      background-color: #E2EBFA;\n",
              "      box-shadow: 0px 1px 2px rgba(60, 64, 67, 0.3), 0px 1px 3px 1px rgba(60, 64, 67, 0.15);\n",
              "      fill: #174EA6;\n",
              "    }\n",
              "\n",
              "    [theme=dark] .colab-df-convert {\n",
              "      background-color: #3B4455;\n",
              "      fill: #D2E3FC;\n",
              "    }\n",
              "\n",
              "    [theme=dark] .colab-df-convert:hover {\n",
              "      background-color: #434B5C;\n",
              "      box-shadow: 0px 1px 3px 1px rgba(0, 0, 0, 0.15);\n",
              "      filter: drop-shadow(0px 1px 2px rgba(0, 0, 0, 0.3));\n",
              "      fill: #FFFFFF;\n",
              "    }\n",
              "  </style>\n",
              "\n",
              "      <script>\n",
              "        const buttonEl =\n",
              "          document.querySelector('#df-6d42d8d1-3cbf-4133-8f69-52d55abcac1c button.colab-df-convert');\n",
              "        buttonEl.style.display =\n",
              "          google.colab.kernel.accessAllowed ? 'block' : 'none';\n",
              "\n",
              "        async function convertToInteractive(key) {\n",
              "          const element = document.querySelector('#df-6d42d8d1-3cbf-4133-8f69-52d55abcac1c');\n",
              "          const dataTable =\n",
              "            await google.colab.kernel.invokeFunction('convertToInteractive',\n",
              "                                                     [key], {});\n",
              "          if (!dataTable) return;\n",
              "\n",
              "          const docLinkHtml = 'Like what you see? Visit the ' +\n",
              "            '<a target=\"_blank\" href=https://colab.research.google.com/notebooks/data_table.ipynb>data table notebook</a>'\n",
              "            + ' to learn more about interactive tables.';\n",
              "          element.innerHTML = '';\n",
              "          dataTable['output_type'] = 'display_data';\n",
              "          await google.colab.output.renderOutput(dataTable, element);\n",
              "          const docLink = document.createElement('div');\n",
              "          docLink.innerHTML = docLinkHtml;\n",
              "          element.appendChild(docLink);\n",
              "        }\n",
              "      </script>\n",
              "    </div>\n",
              "  </div>\n",
              "  "
            ]
          },
          "metadata": {},
          "execution_count": 3
        }
      ]
    },
    {
      "cell_type": "code",
      "source": [
        "red_df.info()"
      ],
      "metadata": {
        "colab": {
          "base_uri": "https://localhost:8080/"
        },
        "id": "NdL6p6KwzHh_",
        "outputId": "9885a79a-c317-48b6-dfe8-613e30fc1a1f"
      },
      "execution_count": null,
      "outputs": [
        {
          "output_type": "stream",
          "name": "stdout",
          "text": [
            "<class 'pandas.core.frame.DataFrame'>\n",
            "RangeIndex: 10005 entries, 0 to 10004\n",
            "Data columns (total 21 columns):\n",
            " #   Column                  Non-Null Count  Dtype  \n",
            "---  ------                  --------------  -----  \n",
            " 0   retrieved_on            10002 non-null  object \n",
            " 1   ups                     10000 non-null  float64\n",
            " 2   author_flair_css_class  2954 non-null   object \n",
            " 3   author_flair_text       2680 non-null   object \n",
            " 4   gilded                  10005 non-null  int64  \n",
            " 5   controversiality        10005 non-null  object \n",
            " 6   subreddit_id            10005 non-null  object \n",
            " 7   edited                  10005 non-null  object \n",
            " 8   subreddit               10005 non-null  object \n",
            " 9   parent_id               10000 non-null  object \n",
            " 10  created_utc             10000 non-null  float64\n",
            " 11  downs                   10000 non-null  float64\n",
            " 12  body                    9998 non-null   object \n",
            " 13  distinguished           83 non-null     object \n",
            " 14  id                      9995 non-null   object \n",
            " 15  archived                9995 non-null   object \n",
            " 16  score                   9995 non-null   float64\n",
            " 17  author                  9995 non-null   object \n",
            " 18  score_hidden            9995 non-null   object \n",
            " 19  link_id                 9995 non-null   object \n",
            " 20  name                    9995 non-null   object \n",
            "dtypes: float64(4), int64(1), object(16)\n",
            "memory usage: 1.6+ MB\n"
          ]
        }
      ]
    },
    {
      "cell_type": "markdown",
      "source": [
        "## controversiality"
      ],
      "metadata": {
        "id": "TJq45lq4zy0D"
      }
    },
    {
      "cell_type": "code",
      "source": [
        "red_df['controversiality'].value_counts()"
      ],
      "metadata": {
        "colab": {
          "base_uri": "https://localhost:8080/"
        },
        "id": "I2qy_7RHy6_q",
        "outputId": "e8888504-aef1-4832-b5d0-e10c561792d1"
      },
      "execution_count": null,
      "outputs": [
        {
          "output_type": "execute_result",
          "data": {
            "text/plain": [
              "0                  10000\n",
              "twixasaurousrex        1\n",
              "youcefhd               1\n",
              "elaintahra             1\n",
              "Relacuna               1\n",
              "brim4brim              1\n",
              "Name: controversiality, dtype: int64"
            ]
          },
          "metadata": {},
          "execution_count": 4
        }
      ]
    },
    {
      "cell_type": "markdown",
      "source": [
        "Conculsion: \n",
        "\n",
        "\n",
        "---\n",
        "\n",
        "\n",
        "All the comments have zero controversiality score. Hence it doesn't provide any useful inferenec."
      ],
      "metadata": {
        "id": "eNZq_DuRz85o"
      }
    },
    {
      "cell_type": "markdown",
      "source": [
        "## downvotes"
      ],
      "metadata": {
        "id": "L9ModoHb0Rqf"
      }
    },
    {
      "cell_type": "code",
      "source": [
        "red_df['downs'].value_counts()"
      ],
      "metadata": {
        "colab": {
          "base_uri": "https://localhost:8080/"
        },
        "id": "ZuVshb1TzbpE",
        "outputId": "2678c445-5935-4f8a-aab1-599124968476"
      },
      "execution_count": null,
      "outputs": [
        {
          "output_type": "execute_result",
          "data": {
            "text/plain": [
              "0.0    10000\n",
              "Name: downs, dtype: int64"
            ]
          },
          "metadata": {},
          "execution_count": 11
        }
      ]
    },
    {
      "cell_type": "markdown",
      "source": [
        "Conclusion:\n",
        "\n",
        "\n",
        "---\n",
        "All comments have zero downvotes.\n"
      ],
      "metadata": {
        "id": "b68nd06-0XA7"
      }
    },
    {
      "cell_type": "markdown",
      "source": [
        "## upvotes"
      ],
      "metadata": {
        "id": "hisgCeIe0iIn"
      }
    },
    {
      "cell_type": "code",
      "source": [
        "sum(red_df['ups'] < 0)"
      ],
      "metadata": {
        "colab": {
          "base_uri": "https://localhost:8080/"
        },
        "id": "uTxz55N70llW",
        "outputId": "545b5a27-0fa0-4c16-bccb-ba01514586ae"
      },
      "execution_count": null,
      "outputs": [
        {
          "output_type": "execute_result",
          "data": {
            "text/plain": [
              "448"
            ]
          },
          "metadata": {},
          "execution_count": 14
        }
      ]
    },
    {
      "cell_type": "markdown",
      "source": [
        "Conclusion\n",
        "\n",
        "\n",
        "---\n",
        "About 4.5% of the comments have negative upvotes (which doesn't make sense)\n"
      ],
      "metadata": {
        "id": "HgHKSHM-0wx4"
      }
    },
    {
      "cell_type": "markdown",
      "source": [
        "## authors"
      ],
      "metadata": {
        "id": "cFt5WIZe1VXJ"
      }
    },
    {
      "cell_type": "code",
      "source": [
        "from collections import Counter\n",
        "\n",
        "result = dict(Counter(red_df['author'].tolist()))\n",
        "result = {k: v for k, v in sorted(result.items(), key=lambda item: item[1], reverse = True)}\n",
        "top_users = dict(list(result.items())[0: 10])\n",
        "top_users"
      ],
      "metadata": {
        "colab": {
          "base_uri": "https://localhost:8080/"
        },
        "id": "-z184OPU1Wwr",
        "outputId": "9ea0d534-9f6f-4d8a-96ec-ea3a0b7b17b3"
      },
      "execution_count": null,
      "outputs": [
        {
          "output_type": "execute_result",
          "data": {
            "text/plain": [
              "{'[deleted]': 807,\n",
              " 'AutoModerator': 60,\n",
              " nan: 10,\n",
              " 'jonandkaylatoler': 7,\n",
              " 'havoc_bot': 6,\n",
              " 'ricky_king': 5,\n",
              " 'Mrs_Holman_7': 5,\n",
              " 'autowikibot': 5,\n",
              " 'Sabrina_Cage': 5,\n",
              " 'Shadow-Pie': 4}"
            ]
          },
          "metadata": {},
          "execution_count": 36
        }
      ]
    },
    {
      "cell_type": "markdown",
      "source": [
        "Conclusion:\n",
        "\n",
        "\n",
        "---\n",
        "\n",
        "\n",
        "After getting the top users in the dataset we noted the following\n",
        "\n",
        "- About 8% of the comments have deleted users. A user could get banned or remove his account but his comments would still be on the platform\n",
        "- Some of the most active users are actual bots such as havoc_bot and autowiki bots. They are used for auto-moderating contents\n",
        "- Some user entries have nan values"
      ],
      "metadata": {
        "id": "tRGqxGhK3yqn"
      }
    },
    {
      "cell_type": "markdown",
      "source": [
        "## body"
      ],
      "metadata": {
        "id": "fopAIamF5lm4"
      }
    },
    {
      "cell_type": "code",
      "source": [
        "sum(red_df['body'] == '[deleted]')"
      ],
      "metadata": {
        "colab": {
          "base_uri": "https://localhost:8080/"
        },
        "id": "UP-Np1CS5md_",
        "outputId": "76be0335-c8a4-4ff9-efc1-c6f1198bb759"
      },
      "execution_count": null,
      "outputs": [
        {
          "output_type": "execute_result",
          "data": {
            "text/plain": [
              "645"
            ]
          },
          "metadata": {},
          "execution_count": 38
        }
      ]
    },
    {
      "cell_type": "markdown",
      "source": [
        "Also, a fair portion of the comments have deleted body entries."
      ],
      "metadata": {
        "id": "SrN1sMfo5y06"
      }
    },
    {
      "cell_type": "markdown",
      "source": [
        "## gilded"
      ],
      "metadata": {
        "id": "Z9uLvBP16MBM"
      }
    },
    {
      "cell_type": "code",
      "source": [
        "red_df['gilded'].value_counts()"
      ],
      "metadata": {
        "colab": {
          "base_uri": "https://localhost:8080/"
        },
        "id": "iAd9oP_G6LHX",
        "outputId": "794b1ac8-f2f9-436f-be0e-b76bae928c62"
      },
      "execution_count": null,
      "outputs": [
        {
          "output_type": "execute_result",
          "data": {
            "text/plain": [
              "0     9997\n",
              "1        5\n",
              "2        2\n",
              "25       1\n",
              "Name: gilded, dtype: int64"
            ]
          },
          "metadata": {},
          "execution_count": 39
        }
      ]
    },
    {
      "cell_type": "markdown",
      "source": [
        "Conclusion\n",
        "\n",
        "\n",
        "---\n",
        "\n",
        "\n",
        "gilded is the amount of reddit golds a comment recieve. Almost all the comments have 0 gilded which doesn't make it a useful feature for our anaylsis"
      ],
      "metadata": {
        "id": "7qg9R6856TqD"
      }
    }
  ]
}